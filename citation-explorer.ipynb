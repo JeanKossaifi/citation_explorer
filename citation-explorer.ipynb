{
 "cells": [
  {
   "cell_type": "markdown",
   "id": "0c276114-05e1-47d5-8ffe-d565798440ce",
   "metadata": {},
   "source": [
    "# A Jupyter Widget To Interactively Explore Citations to a Papper\n",
    "\n",
    "By [Jean Kossaifi](http://jeankossaifi.com)\n",
    "\n",
    "[![Twitter URL](https://img.shields.io/twitter/url/https/twitter.com/JeanKossaifi.svg?style=social&label=Follow%20JeanKossaifi)](https://twitter.com/JeanKossaifi)\n"
   ]
  },
  {
   "cell_type": "code",
   "execution_count": 1,
   "id": "9c195590-0510-437f-880b-e159abaa78b6",
   "metadata": {},
   "outputs": [],
   "source": [
    "import requests\n",
    "import pickle\n",
    "from pathlib import Path\n",
    "import ipywidgets as widgets\n",
    "from IPython.display import display, HTML\n",
    "from ipywidgets import Layout"
   ]
  },
  {
   "cell_type": "markdown",
   "id": "bdf88ba1-bc45-4adc-ab46-ca73103103ff",
   "metadata": {},
   "source": [
    "I first wrote a convenience function to call the Semantic Scholar API: "
   ]
  },
  {
   "cell_type": "code",
   "execution_count": 2,
   "id": "752e4e91-090e-4401-9e10-652dea667a41",
   "metadata": {},
   "outputs": [],
   "source": [
    "def get_article_citations(CorpusId=None, DOI=None, ARXIV=None, PMID=None, \n",
    "                          PMCID=None, URL=None, ACL=None, MAG=None,\n",
    "                          filename_prefix='./article_citations', verbose=True):\n",
    "    kwargs = locals().copy()\n",
    "    del kwargs['filename_prefix']\n",
    "    del kwargs['verbose']\n",
    "    valid_ids = {k:v for k,v in kwargs.items() if v is not None}\n",
    "    if not valid_ids:\n",
    "        raise ValueError('At least one form of paper ID must be provided')\n",
    "    elif len(valid_ids) > 1:\n",
    "        raise ValueError(f'Only one form of ID should be given, but got {\", \".join(valid_ids.keys())}')\n",
    "    key = list(valid_ids.keys())[0]\n",
    "    value = valid_ids[key]\n",
    "    query = (f'https://api.semanticscholar.org/graph/v1/paper/{key}:{value}/citations?'\n",
    "             'fields=title,'\n",
    "             'authors,'\n",
    "             'isInfluential,'\n",
    "             'url,'\n",
    "             'abstract,'\n",
    "             'venue,'\n",
    "             'year,'\n",
    "             'referenceCount,'\n",
    "             'citationCount,'\n",
    "             'influentialCitationCount,'\n",
    "             'intents,'\n",
    "             'contexts'\n",
    "             '&limit=999')\n",
    "    \n",
    "    if filename_prefix is not None:\n",
    "        save_suffix = f'{key}_{value}'\n",
    "        save_file = filename_prefix + save_suffix + '.pkl'\n",
    "\n",
    "        if Path(save_file).exists():\n",
    "            with open(save_file, 'rb') as f:\n",
    "                citations = pickle.load(f)\n",
    "        else:\n",
    "            response = requests.get(query)\n",
    "\n",
    "            result = response.json()\n",
    "            citations = result['data']\n",
    "\n",
    "            with open(save_file, 'wb') as f:\n",
    "                pickle.dump(citations, f)\n",
    "    if verbose:\n",
    "        print(f'Fetched {len(citations)} citations for document {key}={value}.')\n",
    "    \n",
    "    return citations"
   ]
  },
  {
   "cell_type": "markdown",
   "id": "b4bc9c62-0b0c-4055-b9d5-6873ad014834",
   "metadata": {},
   "source": [
    "## Visualising the result \n",
    "\n",
    "Let's see what a single citation looks like"
   ]
  },
  {
   "cell_type": "code",
   "execution_count": 3,
   "id": "7dab3bd3-04ca-4b2b-9f0d-23ba2eea9009",
   "metadata": {},
   "outputs": [
    {
     "name": "stdout",
     "output_type": "stream",
     "text": [
      "Fetched 188 citations for document CorpusId=1104773.\n"
     ]
    }
   ],
   "source": [
    "# Example: let's look at the citations for the TensorLy paper\n",
    "citations = get_article_citations(CorpusId=1104773)"
   ]
  },
  {
   "cell_type": "markdown",
   "id": "1a53239e-ab60-4b70-be1c-1b43fdcb6f5a",
   "metadata": {},
   "source": [
    "Now, rather than stare at the raw json data, let's present it in a readable form. "
   ]
  },
  {
   "cell_type": "code",
   "execution_count": 4,
   "id": "39f061e2-c4da-443d-b6e7-ccf2be057987",
   "metadata": {},
   "outputs": [],
   "source": [
    "def tag(name, content='', href=None, cls=None):\n",
    "    html = f'<{name}'\n",
    "    if href is not None:\n",
    "        html += f' href=\"{href}\"'\n",
    "    if cls is not None:\n",
    "        html += f' class=\"{cls}\"'\n",
    "    html += '>'\n",
    "    html += content\n",
    "    html += f'</{name}>'\n",
    "    \n",
    "    return html\n",
    "\n",
    "def citation_to_html(citation):\n",
    "    paper = citation['citingPaper']\n",
    "\n",
    "#     res = '<head> <link rel=\"stylesheet\" href=\"https://cdn.jsdelivr.net/npm/bulma@0.9.3/css/bulma.min.css\"></head>'\n",
    "    if citation['isInfluential']:\n",
    "        title = tag('i', cls='fas fa-star') + '&nbsp;' + paper['title']\n",
    "    else:\n",
    "        title = paper['title']\n",
    "    res = tag(name='h3', content=title)\n",
    "\n",
    "    if paper['authors']:\n",
    "        res += tag('h4', 'By ' + \", \".join([author['name'] for author in paper['authors']]), cls='subtitle')\n",
    "    \n",
    "    if paper['venue']:\n",
    "        res += tag('em', 'In ' + paper['venue'])\n",
    "    else:\n",
    "        res += 'Unknown venue'\n",
    "\n",
    "    res + f\", {paper['year']}. Got {paper['citationCount']} citations. \"\n",
    "    \n",
    "    if citation['intents']:\n",
    "        res += \"&emsp; Intents=\" + \", \".join(f'\"{c}\"' for c in citation['intents'])\n",
    "    if paper['url']:\n",
    "        res +=  '&emsp;' + tag('a', cls='button is-link', href=paper['url'], content='[link]')\n",
    "    if citation['contexts']:\n",
    "        res += f\"<br/><br/> &emsp;\" + tag('em', tag('b', 'Contexts of the citation: ')) + \"<br/>\"\n",
    "        res += tag('ul', content=\"\".join(tag('li', s) for s in citation['contexts']))\n",
    "    if paper['abstract']:\n",
    "        res += tag('div', tag('p', tag('em', tag('b', '&emsp; Abstract &emsp;')) + paper['abstract']), cls='abstract')\n",
    "    \n",
    "    return res"
   ]
  },
  {
   "cell_type": "markdown",
   "id": "3df8bbdd-c06f-49ca-972b-e487e8fec459",
   "metadata": {},
   "source": [
    "Let's view one of the citations:"
   ]
  },
  {
   "cell_type": "code",
   "execution_count": 5,
   "id": "ba582aa6-3edc-45fd-b6c7-bc72ad8cd4c9",
   "metadata": {},
   "outputs": [
    {
     "data": {
      "text/html": [
       "<h3>The Wide, the Deep, and the Maverick</h3><h4 class=\"subtitle\">By Julie Jiang, D. Maldeniya, Kristina Lerman, Emilio Ferrara</h4><em>In Proc. ACM Hum. Comput. Interact.</em>&emsp; Intents=\"methodology\"&emsp;<a href=\"https://www.semanticscholar.org/paper/506ecfa512755190290579a11c8695cff1dae896\" class=\"button is-link\">[link]</a><br/><br/> &emsp;<em><b>Contexts of the citation: </b></em><br/><ul><li>We use the NTF inplementation in the open-sourced Python library Tensorly [58] for our work.</li></ul><div class=\"abstract\"><p><em><b>&emsp; Abstract &emsp;</b></em>Although player performance in online games has been widely studied, few studies have considered the behavioral preferences of players and how they impact performance. In a competitive setting where players must cooperate with temporary teammates, it is even more crucial to understand how differences in playing style contribute to teamwork. Drawing on theories of individual behavior in teams, we describe a methodology to empirically profile players based on the diversity and conformity of their gameplay styles. Applying this approach to a League of Legends dataset, we find three distinct types of players that align with our theoretical framework: generalists, specialists, and mavericks. Importantly, the behavior of each player type remains stable despite players becoming more experienced. Additionally, we extensively investigate the benefits and drawbacks of each type of player by evaluating their individual performance, contribution to the team, and adaptation to changes in the game environment. We find that, overall, specialists tend to outperform others, while mavericks bear high risk but also potentially reap great rewards. Generalists are the most resilient to instability in the environment (game patches). We discuss the implications of these findings in terms of game design and community management, as well as team building in environments with varying levels of stability.</p></div>"
      ],
      "text/plain": [
       "<IPython.core.display.HTML object>"
      ]
     },
     "execution_count": 5,
     "metadata": {},
     "output_type": "execute_result"
    }
   ],
   "source": [
    "HTML(citation_to_html(citations[17]))"
   ]
  },
  {
   "cell_type": "markdown",
   "id": "eae29335-2272-4795-92b3-db6623b0efd9",
   "metadata": {},
   "source": [
    "## A Jupyter Widget to interactively check the citations"
   ]
  },
  {
   "cell_type": "markdown",
   "id": "329b182b-807b-4616-bb42-b59c40f83d9b",
   "metadata": {},
   "source": [
    "Now I just wrote a quick Widget to conveniently browse through the citations:"
   ]
  },
  {
   "cell_type": "code",
   "execution_count": 6,
   "id": "5e15d1f0-9291-4db0-87ac-53fee5a84ceb",
   "metadata": {},
   "outputs": [],
   "source": [
    "class CitationManager():\n",
    "    \n",
    "    def __init__(self, data, start=0, text=None, slider=None):\n",
    "        self.value=start\n",
    "        self.text = text\n",
    "        self.slider = slider\n",
    "        if data is not None:\n",
    "            self.set_data(data, start)\n",
    "    \n",
    "    def _update_text(self):\n",
    "        if self.text is not None:\n",
    "            self.text.value = citation_to_html(self.data[self.value])\n",
    "    \n",
    "    def _update_slider(self):\n",
    "        if self.slider is not None:\n",
    "            self.slider.value = int(self.value)\n",
    "\n",
    "    def previous_fun(self, button):\n",
    "        if self.value > self.min:\n",
    "            self.value -= 1\n",
    "        self._update_text()\n",
    "        self._update_slider()\n",
    "\n",
    "    def next_fun(self, button):\n",
    "        if (self.value) < self.max:\n",
    "            self.value += 1\n",
    "        self._update_text()\n",
    "        self._update_slider()\n",
    "        \n",
    "    def set_value(self, change):\n",
    "        if 0 <= (change['new']) < self.max:\n",
    "            self.value = change['new']\n",
    "        self._update_text()\n",
    "    \n",
    "    def set_data(self, data, start=0):\n",
    "        self.value = start\n",
    "        self.min = start\n",
    "        self.max = len(data)\n",
    "        self.data = data\n",
    "        self._update_text()\n",
    "\n",
    "# Create the widgets\n",
    "button_height = '30px'\n",
    "next_button = widgets.Button(\n",
    "    description='Next',\n",
    "    disabled=False,\n",
    "    tooltip='next citation',\n",
    "    icon='arrow-right',\n",
    "    layout=Layout(width='10%', height=button_height)\n",
    ")\n",
    "previous_button = widgets.Button(\n",
    "    description='Previous',\n",
    "    disabled=False,\n",
    "    tooltip='previous citation',\n",
    "    icon='arrow-left',\n",
    "    layout=Layout(width='10%', height=button_height)\n",
    ")\n",
    "text = widgets.HTML()\n",
    "slider = widgets.IntSlider(value=0, min=0,\n",
    "                            layout=Layout(width='60%', height=button_height))\n",
    "\n",
    "# Manager to handle events and updates\n",
    "manager = CitationManager(start=0, data=None, text=text, slider=slider)\n",
    "next_button.on_click(manager.next_fun)\n",
    "previous_button.on_click(manager.previous_fun)\n",
    "    \n",
    "play = widgets.Play(\n",
    "    interval=150,\n",
    "    value=0,\n",
    "    min=0,\n",
    "    step=1,\n",
    "    description=\"Press play\",\n",
    "    disabled=False,\n",
    "    layout=Layout(margin='0 auto 0 0')\n",
    ")\n",
    "widgets.jslink((play, 'value'), (slider, 'value'))\n",
    "\n",
    "# Link slider to manager (so text is updated on slider update)\n",
    "slider.observe(manager.set_value, names='value')\n",
    "\n",
    "paper_type = widgets.Dropdown(\n",
    "    options=['CorpusId', 'DOI', 'ARXIV', 'PMID', 'PMCID', 'URL', 'ACL', 'MAG'],\n",
    "    value='CorpusId',\n",
    "    description='Identifier:',\n",
    ")\n",
    "paper_id = widgets.Text(\n",
    "    value='1104773',\n",
    "    placeholder='Paper ID',\n",
    "    description='Paper ID:',\n",
    "    disabled=False\n",
    ")\n",
    "search_button = widgets.Button(\n",
    "    description='Explore',\n",
    "    disabled=False,\n",
    "    button_style='info', \n",
    "    tooltip='Explore paper citations',\n",
    "    icon='arrow-right',\n",
    "    layout=Layout(width='15%', height=button_height, margin='0 0 0 auto')\n",
    ")\n",
    "\n",
    "# Display the widgets\n",
    "search_line = widgets.HBox([paper_type, paper_id, search_button])\n",
    "explore_line = widgets.HBox([play, previous_button, slider, next_button])\n",
    "citation_explorer = widgets.VBox([search_line, explore_line, text], box_style='info')\n",
    "\n",
    "def update_citations(button):\n",
    "    ref = {paper_type.value:paper_id.value}\n",
    "    data = get_article_citations(**ref, verbose=False)\n",
    "    manager.set_data(data)\n",
    "    slider.max = len(data)\n",
    "    play.max = len(data)\n",
    "\n",
    "search_button.on_click(update_citations)"
   ]
  },
  {
   "cell_type": "markdown",
   "id": "2abbf12f-ec49-4baf-b916-4c25cb0c6fed",
   "metadata": {},
   "source": [
    "## The Citation Explorer Widget In Action"
   ]
  },
  {
   "cell_type": "markdown",
   "id": "f3853d4b-98f4-4ee2-b9a9-b8b53aa29574",
   "metadata": {},
   "source": [
    "And here's the result: just enter the ID of the paper of which you wish to look at the citations and press Explore!"
   ]
  },
  {
   "cell_type": "code",
   "execution_count": 7,
   "id": "7e5991ed-436d-48b7-9be9-db0b23577d5d",
   "metadata": {},
   "outputs": [
    {
     "data": {
      "application/vnd.jupyter.widget-view+json": {
       "model_id": "bfa113cd344d4b88839edec986136545",
       "version_major": 2,
       "version_minor": 0
      },
      "text/plain": [
       "VBox(box_style='info', children=(HBox(children=(Dropdown(description='Identifier:', options=('CorpusId', 'DOI'…"
      ]
     },
     "metadata": {},
     "output_type": "display_data"
    }
   ],
   "source": [
    "display(citation_explorer)"
   ]
  }
 ],
 "metadata": {
  "kernelspec": {
   "display_name": "Python 3",
   "language": "python",
   "name": "python3"
  },
  "language_info": {
   "codemirror_mode": {
    "name": "ipython",
    "version": 3
   },
   "file_extension": ".py",
   "mimetype": "text/x-python",
   "name": "python",
   "nbconvert_exporter": "python",
   "pygments_lexer": "ipython3",
   "version": "3.8.8"
  }
 },
 "nbformat": 4,
 "nbformat_minor": 5
}
